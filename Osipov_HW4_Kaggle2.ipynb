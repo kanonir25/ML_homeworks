{
 "cells": [
  {
   "cell_type": "code",
   "execution_count": 85,
   "metadata": {
    "collapsed": true
   },
   "outputs": [],
   "source": [
    "from sklearn.datasets import fetch_20newsgroups\n",
    "import numpy as np\n",
    "import heapq\n",
    "import pandas as pd\n",
    "from sklearn.feature_extraction.text import CountVectorizer\n",
    "from sklearn.linear_model import LogisticRegression\n",
    "from sklearn.metrics import accuracy_score\n",
    "from sklearn.model_selection import cross_val_score\n",
    "from sklearn.pipeline import Pipeline\n",
    "from sklearn.pipeline import make_pipeline\n",
    "from sklearn.feature_extraction.text import TfidfTransformer\n",
    "from sklearn.metrics import roc_auc_score"
   ]
  },
  {
   "cell_type": "code",
   "execution_count": 86,
   "metadata": {
    "collapsed": true
   },
   "outputs": [],
   "source": [
    "train_data = pd.read_csv('/home/gunner/Рабочий стол/linear_train.txt', header=None)\n",
    "test_data = pd.read_csv('/home/gunner/Рабочий стол/linear_test.txt', header=None)"
   ]
  },
  {
   "cell_type": "code",
   "execution_count": 84,
   "metadata": {
    "collapsed": true
   },
   "outputs": [],
   "source": [
    "def do_count_vectorizer(C=1.0, penalty='l2'):\n",
    "    algo = LogisticRegression(random_state=5, C=C)\n",
    "    count_vectorizer = CountVectorizer(ngram_range=(2, 8), analyzer='char_wb', binary=True, lowercase=False)\n",
    "    train_matrix = count_vectorizer.fit_transform(train_data[0])\n",
    "    test_matrix = count_vectorizer.transform(test_data[0])\n",
    "    predictions = algo.fit(train_matrix, train_data[1]).predict_proba(train_matrix)[:,1]\n",
    "    roc_auc_score(train_data[1], predictions)\n",
    "    predictions = algo.fit(train_matrix, train_data[1]).predict_proba(test_matrix)[:,1]\n",
    "    new_list = []\n",
    "    for i in range(predictions.shape[0]):\n",
    "        new_list.append((int(i), predictions[i]))\n",
    "    np.savetxt(\"Osipov.csv\", new_list, fmt=['%d', '%f'], delimiter=',', header='Id, Answer')"
   ]
  },
  {
   "cell_type": "code",
   "execution_count": 87,
   "metadata": {
    "collapsed": true
   },
   "outputs": [],
   "source": [
    "do_count_vectorizer(C=1.1)"
   ]
  },
  {
   "cell_type": "code",
   "execution_count": null,
   "metadata": {
    "collapsed": true
   },
   "outputs": [],
   "source": []
  }
 ],
 "metadata": {
  "kernelspec": {
   "display_name": "Python 3",
   "language": "python",
   "name": "python3"
  },
  "language_info": {
   "codemirror_mode": {
    "name": "ipython",
    "version": 3
   },
   "file_extension": ".py",
   "mimetype": "text/x-python",
   "name": "python",
   "nbconvert_exporter": "python",
   "pygments_lexer": "ipython3",
   "version": "3.6.0"
  }
 },
 "nbformat": 4,
 "nbformat_minor": 2
}
